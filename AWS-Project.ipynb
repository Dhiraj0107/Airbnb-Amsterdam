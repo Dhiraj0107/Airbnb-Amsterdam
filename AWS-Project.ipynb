{
 "cells": [
  {
   "cell_type": "code",
   "execution_count": 4,
   "id": "4a24bd04",
   "metadata": {},
   "outputs": [],
   "source": [
    "# Import the required packages\n",
    "\n",
    "import boto3\n",
    "import pandas as pd\n",
    "from io import StringIO\n",
    "import time\n",
    "import io"
   ]
  },
  {
   "cell_type": "code",
   "execution_count": 5,
   "id": "a0b80847",
   "metadata": {},
   "outputs": [],
   "source": [
    "# Load the details required to connect to different AWS Services\n",
    "\n",
    "import configparser\n",
    "config = configparser.ConfigParser()\n",
    "config.read_file(open('config_file.config'))\n",
    "AWS_ACCESS_KEY_ID=config.get(\"AWS\",\"KEY\")\n",
    "AWS_SECRET_ACCESS_KEY=config.get(\"AWS\",\"SECRET_KEY\")\n",
    "AWS_BUCKET_NAME=config.get(\"DWH\",\"BUCKET_NAME\")\n",
    "FILE_PATH=config.get(\"AWS\",\"FILE_PATH\")\n",
    "AWS_REGION=config.get(\"AWS\",\"AWS_REGION\")"
   ]
  },
  {
   "cell_type": "code",
   "execution_count": 6,
   "id": "2ad93da7",
   "metadata": {},
   "outputs": [],
   "source": [
    "# Connect to S3\n",
    "\n",
    "s3 = boto3.resource(\n",
    "    service_name='s3',\n",
    "    region_name='eu-west-1',\n",
    "    aws_access_key_id=AWS_ACCESS_KEY_ID,\n",
    "    aws_secret_access_key=AWS_SECRET_ACCESS_KEY\n",
    ")"
   ]
  },
  {
   "cell_type": "code",
   "execution_count": null,
   "id": "1ce5a0b1",
   "metadata": {},
   "outputs": [],
   "source": [
    "# Load the files to S3\n",
    "\n",
    "s3.Bucket(AWS_BUCKET_NAME).upload_file(Filename=FILE_PATH + '/coaches.csv', Key='coaches.csv')\n",
    "s3.Bucket(AWS_BUCKET_NAME).upload_file(Filename=FILE_PATH + '/technical_officials.csv', Key='technical_officials.csv')\n",
    "s3.Bucket(AWS_BUCKET_NAME).upload_file(Filename=FILE_PATH + '/medals.csv', Key='medals.csv')\n",
    "s3.Bucket(AWS_BUCKET_NAME).upload_file(Filename=FILE_PATH + '/athletes.csv', Key='athletes.csv')\n",
    "s3.Bucket(AWS_BUCKET_NAME).upload_file(Filename=FILE_PATH + '/medals_total.csv', Key='medals_total.csv')"
   ]
  },
  {
   "cell_type": "code",
   "execution_count": 7,
   "id": "877e79f5",
   "metadata": {},
   "outputs": [],
   "source": [
    "# Connect to Athena\n",
    "\n",
    "athena = boto3.client(\n",
    "    'athena',\n",
    "    aws_access_key_id=AWS_ACCESS_KEY_ID,\n",
    "    aws_secret_access_key=AWS_SECRET_ACCESS_KEY,\n",
    "    region_name=AWS_REGION\n",
    ")"
   ]
  },
  {
   "cell_type": "code",
   "execution_count": 6,
   "id": "785fe1d6",
   "metadata": {},
   "outputs": [
    {
     "name": "stdout",
     "output_type": "stream",
     "text": [
      "Execution ID: 6d3ab3a1-f488-4f04-8941-e22b8f9fa643\n",
      "QUEUED\n",
      "SUCCEEDED\n",
      "Query \"\n",
      "    SELECT * FROM \"tokyo-olympics\".\"athletes\"\n",
      "    \" finished.\n"
     ]
    }
   ],
   "source": [
    "# Code to query and load data from Athena to local\n",
    "\n",
    "\n",
    "class QueryAthena:\n",
    "    \n",
    "    def __init__(self, query, database, input_folder):\n",
    "        self.database = database\n",
    "        self.folder = 'athena-query-results-1/'\n",
    "        self.bucket_input = AWS_BUCKET_NAME\n",
    "        self.bucket_output = 'athena-and-redshift-query-results-1'\n",
    "        self.s3_input = 's3://' + self.bucket_input + input_folder\n",
    "        self.s3_output =  's3://' + self.bucket_output + '/' + self.folder\n",
    "        self.region_name = AWS_REGION\n",
    "        self.aws_access_key_id = AWS_ACCESS_KEY_ID\n",
    "        self.aws_secret_access_key = AWS_SECRET_ACCESS_KEY\n",
    "        self.query = query\n",
    "        \n",
    "    def load_conf(self, q):\n",
    "        try:\n",
    "            self.client = boto3.client('athena', \n",
    "                              region_name = self.region_name, \n",
    "                              aws_access_key_id = self.aws_access_key_id,\n",
    "                              aws_secret_access_key= self.aws_secret_access_key)\n",
    "            response = self.client.start_query_execution(\n",
    "                QueryString = q,\n",
    "                    QueryExecutionContext={\n",
    "                    'Database': self.database\n",
    "                    },\n",
    "                    ResultConfiguration={\n",
    "                    'OutputLocation': self.s3_output,\n",
    "                    }\n",
    "            )\n",
    "            self.filename = response['QueryExecutionId']\n",
    "            print('Execution ID: ' + response['QueryExecutionId'])\n",
    "            return response\n",
    "\n",
    "        except Exception as e:\n",
    "            print(e)                \n",
    "  \n",
    "    def run_query(self):\n",
    "        queries = [self.query]\n",
    "        for q in queries:\n",
    "            res = self.load_conf(q)\n",
    "        try:              \n",
    "            query_status = None\n",
    "            while query_status == 'QUEUED' or query_status == 'RUNNING' or query_status is None:\n",
    "                query_status = self.client.get_query_execution(QueryExecutionId=res[\"QueryExecutionId\"])['QueryExecution']['Status']['State']\n",
    "                print(query_status)\n",
    "                if query_status == 'FAILED' or query_status == 'CANCELLED':\n",
    "                    raise Exception('Athena query with the string \"{}\" failed or was cancelled'.format(self.query))\n",
    "                time.sleep(10)\n",
    "            print('Query \"{}\" finished.'.format(self.query))\n",
    "            \n",
    "            df = self.obtain_data()\n",
    "            return df\n",
    "            \n",
    "        except Exception as e:\n",
    "            print(e)      \n",
    "            \n",
    "    def obtain_data(self):\n",
    "        try:\n",
    "            self.resource = boto3.resource('s3', \n",
    "                                  region_name = self.region_name, \n",
    "                                  aws_access_key_id = self.aws_access_key_id,\n",
    "                                  aws_secret_access_key= self.aws_secret_access_key)\n",
    "\n",
    "            response = self.resource \\\n",
    "            .Bucket(self.bucket_output) \\\n",
    "            .Object(key= self.folder + self.filename + '.csv') \\\n",
    "            .get()\n",
    "            \n",
    "            return pd.read_csv(io.BytesIO(response['Body'].read()), encoding='utf8')   \n",
    "        except Exception as e:\n",
    "            print(e)  \n",
    "    \n",
    "# Retrieve athletes table\n",
    "if __name__ == \"__main__\":       \n",
    "    query = \"\"\"\n",
    "    SELECT * FROM \"tokyo-olympics\".\"athletes\"\n",
    "    \"\"\"\n",
    "    qa = QueryAthena(query=query, database='tokyo-olympics', input_folder='/athletes')\n",
    "    df_athletes = qa.run_query()"
   ]
  },
  {
   "cell_type": "code",
   "execution_count": 7,
   "id": "3311cc32",
   "metadata": {},
   "outputs": [
    {
     "name": "stdout",
     "output_type": "stream",
     "text": [
      "Execution ID: ee456b76-2676-4d90-876e-9fa08d0b79cb\n",
      "QUEUED\n",
      "SUCCEEDED\n",
      "Query \"\n",
      "    SELECT * FROM \"tokyo-olympics\".\"coaches\"\n",
      "    \" finished.\n"
     ]
    }
   ],
   "source": [
    "# Retrieve coaches table\n",
    "if __name__ == \"__main__\":       \n",
    "    query = \"\"\"\n",
    "    SELECT * FROM \"tokyo-olympics\".\"coaches\"\n",
    "    \"\"\"\n",
    "    qa = QueryAthena(query=query, database='tokyo-olympics', input_folder='/coaches')\n",
    "    df_coaches = qa.run_query()"
   ]
  },
  {
   "cell_type": "code",
   "execution_count": 8,
   "id": "42a4ac7b",
   "metadata": {},
   "outputs": [
    {
     "name": "stdout",
     "output_type": "stream",
     "text": [
      "Execution ID: 15f68261-502a-4d4d-a0e6-7c7626cfaa22\n",
      "QUEUED\n",
      "SUCCEEDED\n",
      "Query \"\n",
      "    SELECT * FROM \"tokyo-olympics\".\"medals_total\"\n",
      "    \" finished.\n"
     ]
    }
   ],
   "source": [
    "# Retrieve medals_total table\n",
    "if __name__ == \"__main__\":       \n",
    "    query = \"\"\"\n",
    "    SELECT * FROM \"tokyo-olympics\".\"medals_total\"\n",
    "    \"\"\"\n",
    "    qa = QueryAthena(query=query, database='tokyo-olympics', input_folder='/medals_total')\n",
    "    df_medals_total = qa.run_query()"
   ]
  },
  {
   "cell_type": "code",
   "execution_count": 9,
   "id": "bf9b54fe",
   "metadata": {},
   "outputs": [
    {
     "name": "stdout",
     "output_type": "stream",
     "text": [
      "Execution ID: dc7698d6-1595-4586-8f42-2123aae56149\n",
      "QUEUED\n",
      "SUCCEEDED\n",
      "Query \"\n",
      "    SELECT * FROM \"tokyo-olympics\".\"medals\"\n",
      "    \" finished.\n"
     ]
    }
   ],
   "source": [
    "# Retrieve medals table\n",
    "if __name__ == \"__main__\":       \n",
    "    query = \"\"\"\n",
    "    SELECT * FROM \"tokyo-olympics\".\"medals\"\n",
    "    \"\"\"\n",
    "    qa = QueryAthena(query=query, database='tokyo-olympics', input_folder='/medals')\n",
    "    df_medals = qa.run_query()"
   ]
  },
  {
   "cell_type": "code",
   "execution_count": 10,
   "id": "5eb7a9eb",
   "metadata": {},
   "outputs": [
    {
     "name": "stdout",
     "output_type": "stream",
     "text": [
      "Execution ID: d303f155-3552-4e62-adfd-f21e0cd69d63\n",
      "QUEUED\n",
      "SUCCEEDED\n",
      "Query \"\n",
      "    SELECT * FROM \"tokyo-olympics\".\"technical_officials\"\n",
      "    \" finished.\n"
     ]
    }
   ],
   "source": [
    "# Retrieve technical_officials table\n",
    "if __name__ == \"__main__\":       \n",
    "    query = \"\"\"\n",
    "    SELECT * FROM \"tokyo-olympics\".\"technical_officials\"\n",
    "    \"\"\"\n",
    "    qa = QueryAthena(query=query, database='tokyo-olympics', input_folder='/technical_officials')\n",
    "    df_technical_officials = qa.run_query()"
   ]
  },
  {
   "cell_type": "code",
   "execution_count": 11,
   "id": "ffa8b03a",
   "metadata": {},
   "outputs": [],
   "source": [
    "# Drop the first row in the below dataframes\n",
    "\n",
    "df_athletes = df_athletes.drop(0).reset_index(drop=True)\n",
    "df_coaches = df_coaches.drop(0).reset_index(drop=True)\n",
    "df_technical_officials = df_technical_officials.drop(0).reset_index(drop=True)"
   ]
  },
  {
   "cell_type": "code",
   "execution_count": 12,
   "id": "ce6c5fde",
   "metadata": {},
   "outputs": [],
   "source": [
    "# Clean the athletes dataframe\n",
    "\n",
    "# Function to convert names to CamelCase\n",
    "def to_camel_case(s):\n",
    "    parts = s.split(' ')\n",
    "    return ' '.join(x.capitalize() for x in parts)\n",
    "\n",
    "df_athletes['name'] = df_athletes['name'].apply(to_camel_case)"
   ]
  },
  {
   "cell_type": "code",
   "execution_count": 13,
   "id": "415e287e",
   "metadata": {},
   "outputs": [],
   "source": [
    "# Clean the athletes dataframe\n",
    "\n",
    "df_athletes['short_name'] = df_athletes['short_name'].apply(to_camel_case)\n",
    "\n",
    "df_athletes['birth_place'] = df_athletes['birth_place'].astype(str)\n",
    "df_athletes['birth_place'] = df_athletes['birth_place'].apply(to_camel_case)\n",
    "\n",
    "df_athletes['residence_place'] = df_athletes['residence_place'].astype(str)\n",
    "df_athletes['residence_place'] = df_athletes['residence_place'].apply(to_camel_case)\n",
    "df_athletes = df_athletes.fillna('Not mentioned')"
   ]
  },
  {
   "cell_type": "code",
   "execution_count": 14,
   "id": "43802e63",
   "metadata": {},
   "outputs": [
    {
     "data": {
      "text/html": [
       "<div>\n",
       "<style scoped>\n",
       "    .dataframe tbody tr th:only-of-type {\n",
       "        vertical-align: middle;\n",
       "    }\n",
       "\n",
       "    .dataframe tbody tr th {\n",
       "        vertical-align: top;\n",
       "    }\n",
       "\n",
       "    .dataframe thead th {\n",
       "        text-align: right;\n",
       "    }\n",
       "</style>\n",
       "<table border=\"1\" class=\"dataframe\">\n",
       "  <thead>\n",
       "    <tr style=\"text-align: right;\">\n",
       "      <th></th>\n",
       "      <th>name</th>\n",
       "      <th>short_name</th>\n",
       "      <th>gender</th>\n",
       "      <th>birth_date</th>\n",
       "      <th>birth_place</th>\n",
       "      <th>birth_country</th>\n",
       "      <th>country</th>\n",
       "      <th>country_code</th>\n",
       "      <th>discipline</th>\n",
       "      <th>discipline_code</th>\n",
       "      <th>residence_place</th>\n",
       "      <th>residence_country</th>\n",
       "      <th>height_m_ft</th>\n",
       "    </tr>\n",
       "  </thead>\n",
       "  <tbody>\n",
       "    <tr>\n",
       "      <th>0</th>\n",
       "      <td>Aalerud Katrine</td>\n",
       "      <td>Aalerud K</td>\n",
       "      <td>Female</td>\n",
       "      <td>04-12-1994</td>\n",
       "      <td>Vestby</td>\n",
       "      <td>Norway</td>\n",
       "      <td>Norway</td>\n",
       "      <td>NOR</td>\n",
       "      <td>Cycling Road</td>\n",
       "      <td>CRD</td>\n",
       "      <td>Nan</td>\n",
       "      <td>Not mentioned</td>\n",
       "      <td>Not mentioned</td>\n",
       "    </tr>\n",
       "    <tr>\n",
       "      <th>1</th>\n",
       "      <td>Abad Nestor</td>\n",
       "      <td>Abad N</td>\n",
       "      <td>Male</td>\n",
       "      <td>29-03-1993</td>\n",
       "      <td>Alcoi</td>\n",
       "      <td>Spain</td>\n",
       "      <td>Spain</td>\n",
       "      <td>ESP</td>\n",
       "      <td>Artistic Gymnastics</td>\n",
       "      <td>GAR</td>\n",
       "      <td>Madrid</td>\n",
       "      <td>Spain</td>\n",
       "      <td>1.65/5'4''</td>\n",
       "    </tr>\n",
       "    <tr>\n",
       "      <th>2</th>\n",
       "      <td>Abagnale Giovanni</td>\n",
       "      <td>Abagnale G</td>\n",
       "      <td>Male</td>\n",
       "      <td>11-01-1995</td>\n",
       "      <td>Gragnano</td>\n",
       "      <td>Italy</td>\n",
       "      <td>Italy</td>\n",
       "      <td>ITA</td>\n",
       "      <td>Rowing</td>\n",
       "      <td>ROW</td>\n",
       "      <td>Sabaudia</td>\n",
       "      <td>Italy</td>\n",
       "      <td>1.98/6'5''</td>\n",
       "    </tr>\n",
       "    <tr>\n",
       "      <th>3</th>\n",
       "      <td>Abalde Alberto</td>\n",
       "      <td>Abalde A</td>\n",
       "      <td>Male</td>\n",
       "      <td>15-12-1995</td>\n",
       "      <td>Ferrol</td>\n",
       "      <td>Spain</td>\n",
       "      <td>Spain</td>\n",
       "      <td>ESP</td>\n",
       "      <td>Basketball</td>\n",
       "      <td>BKB</td>\n",
       "      <td>Nan</td>\n",
       "      <td>Not mentioned</td>\n",
       "      <td>2.00/6'6''</td>\n",
       "    </tr>\n",
       "    <tr>\n",
       "      <th>4</th>\n",
       "      <td>Abalde Tamara</td>\n",
       "      <td>Abalde T</td>\n",
       "      <td>Female</td>\n",
       "      <td>06-02-1989</td>\n",
       "      <td>Vigo</td>\n",
       "      <td>Spain</td>\n",
       "      <td>Spain</td>\n",
       "      <td>ESP</td>\n",
       "      <td>Basketball</td>\n",
       "      <td>BKB</td>\n",
       "      <td>Nan</td>\n",
       "      <td>Not mentioned</td>\n",
       "      <td>1.92/6'3''</td>\n",
       "    </tr>\n",
       "  </tbody>\n",
       "</table>\n",
       "</div>"
      ],
      "text/plain": [
       "                name  short_name  gender  birth_date birth_place  \\\n",
       "0    Aalerud Katrine   Aalerud K  Female  04-12-1994      Vestby   \n",
       "1        Abad Nestor      Abad N    Male  29-03-1993       Alcoi   \n",
       "2  Abagnale Giovanni  Abagnale G    Male  11-01-1995    Gragnano   \n",
       "3     Abalde Alberto    Abalde A    Male  15-12-1995      Ferrol   \n",
       "4      Abalde Tamara    Abalde T  Female  06-02-1989        Vigo   \n",
       "\n",
       "  birth_country country country_code           discipline discipline_code  \\\n",
       "0        Norway  Norway          NOR         Cycling Road             CRD   \n",
       "1         Spain   Spain          ESP  Artistic Gymnastics             GAR   \n",
       "2         Italy   Italy          ITA               Rowing             ROW   \n",
       "3         Spain   Spain          ESP           Basketball             BKB   \n",
       "4         Spain   Spain          ESP           Basketball             BKB   \n",
       "\n",
       "  residence_place residence_country    height_m_ft  \n",
       "0             Nan     Not mentioned  Not mentioned  \n",
       "1          Madrid             Spain     1.65/5'4''  \n",
       "2        Sabaudia             Italy     1.98/6'5''  \n",
       "3             Nan     Not mentioned     2.00/6'6''  \n",
       "4             Nan     Not mentioned     1.92/6'3''  "
      ]
     },
     "execution_count": 14,
     "metadata": {},
     "output_type": "execute_result"
    }
   ],
   "source": [
    "df_athletes.head()"
   ]
  },
  {
   "cell_type": "code",
   "execution_count": 15,
   "id": "80d28073",
   "metadata": {},
   "outputs": [],
   "source": [
    "# Clean the coaches dataframe\n",
    "\n",
    "df_coaches['name'] = df_coaches['name'].apply(to_camel_case)\n",
    "df_coaches['short_name'] = df_coaches['short_name'].apply(to_camel_case)\n",
    "df_coaches = df_coaches.fillna('Not mentioned')"
   ]
  },
  {
   "cell_type": "code",
   "execution_count": 16,
   "id": "6d50554a",
   "metadata": {},
   "outputs": [
    {
     "data": {
      "text/html": [
       "<div>\n",
       "<style scoped>\n",
       "    .dataframe tbody tr th:only-of-type {\n",
       "        vertical-align: middle;\n",
       "    }\n",
       "\n",
       "    .dataframe tbody tr th {\n",
       "        vertical-align: top;\n",
       "    }\n",
       "\n",
       "    .dataframe thead th {\n",
       "        text-align: right;\n",
       "    }\n",
       "</style>\n",
       "<table border=\"1\" class=\"dataframe\">\n",
       "  <thead>\n",
       "    <tr style=\"text-align: right;\">\n",
       "      <th></th>\n",
       "      <th>name</th>\n",
       "      <th>short_name</th>\n",
       "      <th>gender</th>\n",
       "      <th>birth_date</th>\n",
       "      <th>country_code</th>\n",
       "      <th>discipline</th>\n",
       "      <th>function</th>\n",
       "      <th>event</th>\n",
       "    </tr>\n",
       "  </thead>\n",
       "  <tbody>\n",
       "    <tr>\n",
       "      <th>0</th>\n",
       "      <td>Abdelmagid Wael</td>\n",
       "      <td>Abdelmagid W</td>\n",
       "      <td>Male</td>\n",
       "      <td>02-08-1982</td>\n",
       "      <td>EGY</td>\n",
       "      <td>Football</td>\n",
       "      <td>Head Coach</td>\n",
       "      <td>Not mentioned</td>\n",
       "    </tr>\n",
       "    <tr>\n",
       "      <th>1</th>\n",
       "      <td>Abe Junya</td>\n",
       "      <td>Abe J</td>\n",
       "      <td>Male</td>\n",
       "      <td>25-07-1990</td>\n",
       "      <td>JPN</td>\n",
       "      <td>Volleyball</td>\n",
       "      <td>Head Coach</td>\n",
       "      <td>Not mentioned</td>\n",
       "    </tr>\n",
       "    <tr>\n",
       "      <th>2</th>\n",
       "      <td>Abe Katsuhiko</td>\n",
       "      <td>Abe K</td>\n",
       "      <td>Male</td>\n",
       "      <td>23-09-1979</td>\n",
       "      <td>JPN</td>\n",
       "      <td>Basketball</td>\n",
       "      <td>Coach</td>\n",
       "      <td>Not mentioned</td>\n",
       "    </tr>\n",
       "    <tr>\n",
       "      <th>3</th>\n",
       "      <td>Adama Cherif</td>\n",
       "      <td>Adama C</td>\n",
       "      <td>Male</td>\n",
       "      <td>06-05-1962</td>\n",
       "      <td>CIV</td>\n",
       "      <td>Football</td>\n",
       "      <td>Head Coach</td>\n",
       "      <td>Not mentioned</td>\n",
       "    </tr>\n",
       "    <tr>\n",
       "      <th>4</th>\n",
       "      <td>Ageba Yuya</td>\n",
       "      <td>Ageba Y</td>\n",
       "      <td>Male</td>\n",
       "      <td>30-09-1983</td>\n",
       "      <td>JPN</td>\n",
       "      <td>Volleyball</td>\n",
       "      <td>Head Coach</td>\n",
       "      <td>Not mentioned</td>\n",
       "    </tr>\n",
       "  </tbody>\n",
       "</table>\n",
       "</div>"
      ],
      "text/plain": [
       "              name    short_name gender  birth_date country_code  discipline  \\\n",
       "0  Abdelmagid Wael  Abdelmagid W   Male  02-08-1982          EGY    Football   \n",
       "1        Abe Junya         Abe J   Male  25-07-1990          JPN  Volleyball   \n",
       "2    Abe Katsuhiko         Abe K   Male  23-09-1979          JPN  Basketball   \n",
       "3     Adama Cherif       Adama C   Male  06-05-1962          CIV    Football   \n",
       "4       Ageba Yuya       Ageba Y   Male  30-09-1983          JPN  Volleyball   \n",
       "\n",
       "     function          event  \n",
       "0  Head Coach  Not mentioned  \n",
       "1  Head Coach  Not mentioned  \n",
       "2       Coach  Not mentioned  \n",
       "3  Head Coach  Not mentioned  \n",
       "4  Head Coach  Not mentioned  "
      ]
     },
     "execution_count": 16,
     "metadata": {},
     "output_type": "execute_result"
    }
   ],
   "source": [
    "df_coaches.head()"
   ]
  },
  {
   "cell_type": "code",
   "execution_count": 17,
   "id": "95b1de3a",
   "metadata": {},
   "outputs": [
    {
     "data": {
      "text/html": [
       "<div>\n",
       "<style scoped>\n",
       "    .dataframe tbody tr th:only-of-type {\n",
       "        vertical-align: middle;\n",
       "    }\n",
       "\n",
       "    .dataframe tbody tr th {\n",
       "        vertical-align: top;\n",
       "    }\n",
       "\n",
       "    .dataframe thead th {\n",
       "        text-align: right;\n",
       "    }\n",
       "</style>\n",
       "<table border=\"1\" class=\"dataframe\">\n",
       "  <thead>\n",
       "    <tr style=\"text-align: right;\">\n",
       "      <th></th>\n",
       "      <th>rank</th>\n",
       "      <th>country_code</th>\n",
       "      <th>gold_medal</th>\n",
       "      <th>silver_medal</th>\n",
       "      <th>bronze_medal</th>\n",
       "      <th>total</th>\n",
       "      <th>country</th>\n",
       "    </tr>\n",
       "  </thead>\n",
       "  <tbody>\n",
       "    <tr>\n",
       "      <th>0</th>\n",
       "      <td>1</td>\n",
       "      <td>USA</td>\n",
       "      <td>39</td>\n",
       "      <td>41</td>\n",
       "      <td>33</td>\n",
       "      <td>113</td>\n",
       "      <td>United States of America</td>\n",
       "    </tr>\n",
       "    <tr>\n",
       "      <th>1</th>\n",
       "      <td>2</td>\n",
       "      <td>CHN</td>\n",
       "      <td>38</td>\n",
       "      <td>32</td>\n",
       "      <td>18</td>\n",
       "      <td>88</td>\n",
       "      <td>People's Republic of China</td>\n",
       "    </tr>\n",
       "    <tr>\n",
       "      <th>2</th>\n",
       "      <td>3</td>\n",
       "      <td>JPN</td>\n",
       "      <td>27</td>\n",
       "      <td>14</td>\n",
       "      <td>17</td>\n",
       "      <td>58</td>\n",
       "      <td>Japan</td>\n",
       "    </tr>\n",
       "    <tr>\n",
       "      <th>3</th>\n",
       "      <td>4</td>\n",
       "      <td>GBR</td>\n",
       "      <td>22</td>\n",
       "      <td>21</td>\n",
       "      <td>22</td>\n",
       "      <td>65</td>\n",
       "      <td>Great Britain</td>\n",
       "    </tr>\n",
       "    <tr>\n",
       "      <th>4</th>\n",
       "      <td>5</td>\n",
       "      <td>ROC</td>\n",
       "      <td>20</td>\n",
       "      <td>28</td>\n",
       "      <td>23</td>\n",
       "      <td>71</td>\n",
       "      <td>ROC</td>\n",
       "    </tr>\n",
       "  </tbody>\n",
       "</table>\n",
       "</div>"
      ],
      "text/plain": [
       "   rank country_code  gold_medal  silver_medal  bronze_medal  total  \\\n",
       "0     1          USA          39            41            33    113   \n",
       "1     2          CHN          38            32            18     88   \n",
       "2     3          JPN          27            14            17     58   \n",
       "3     4          GBR          22            21            22     65   \n",
       "4     5          ROC          20            28            23     71   \n",
       "\n",
       "                      country  \n",
       "0    United States of America  \n",
       "1  People's Republic of China  \n",
       "2                       Japan  \n",
       "3               Great Britain  \n",
       "4                         ROC  "
      ]
     },
     "execution_count": 17,
     "metadata": {},
     "output_type": "execute_result"
    }
   ],
   "source": [
    "# Clean the medals_totals dataframe\n",
    "\n",
    "df_medals_total = df_medals_total.fillna('Not mentioned')\n",
    "df_medals_total.head()"
   ]
  },
  {
   "cell_type": "code",
   "execution_count": 18,
   "id": "1c2282da",
   "metadata": {},
   "outputs": [],
   "source": [
    "# Clean the medals dataframe\n",
    "\n",
    "df_medals.drop('medal_date', axis=1, inplace=True)\n",
    "df_medals['athlete_short_name'] = df_medals['athlete_short_name'].apply(to_camel_case)\n",
    "df_medals['athlete_name'] = df_medals['athlete_name'].apply(to_camel_case)\n",
    "df_medals['athlete_sex'] = df_medals['athlete_sex'].replace('X', 'Not mentioned')\n",
    "df_medals = df_medals.fillna('Not mentioned')"
   ]
  },
  {
   "cell_type": "code",
   "execution_count": 20,
   "id": "591dec50",
   "metadata": {},
   "outputs": [
    {
     "data": {
      "text/html": [
       "<div>\n",
       "<style scoped>\n",
       "    .dataframe tbody tr th:only-of-type {\n",
       "        vertical-align: middle;\n",
       "    }\n",
       "\n",
       "    .dataframe tbody tr th {\n",
       "        vertical-align: top;\n",
       "    }\n",
       "\n",
       "    .dataframe thead th {\n",
       "        text-align: right;\n",
       "    }\n",
       "</style>\n",
       "<table border=\"1\" class=\"dataframe\">\n",
       "  <thead>\n",
       "    <tr style=\"text-align: right;\">\n",
       "      <th></th>\n",
       "      <th>medal_type</th>\n",
       "      <th>medal_code</th>\n",
       "      <th>athlete_short_name</th>\n",
       "      <th>athlete_name</th>\n",
       "      <th>athlete_sex</th>\n",
       "      <th>country_code</th>\n",
       "      <th>discipline_code</th>\n",
       "      <th>event</th>\n",
       "      <th>country</th>\n",
       "      <th>discipline</th>\n",
       "    </tr>\n",
       "  </thead>\n",
       "  <tbody>\n",
       "    <tr>\n",
       "      <th>0</th>\n",
       "      <td>Gold Medal</td>\n",
       "      <td>1</td>\n",
       "      <td>Kim Jd</td>\n",
       "      <td>Kim Je Deok</td>\n",
       "      <td>Not mentioned</td>\n",
       "      <td>KOR</td>\n",
       "      <td>ARC</td>\n",
       "      <td>Mixed Team</td>\n",
       "      <td>Republic of Korea</td>\n",
       "      <td>Archery</td>\n",
       "    </tr>\n",
       "    <tr>\n",
       "      <th>1</th>\n",
       "      <td>Gold Medal</td>\n",
       "      <td>1</td>\n",
       "      <td>An S</td>\n",
       "      <td>An San</td>\n",
       "      <td>Not mentioned</td>\n",
       "      <td>KOR</td>\n",
       "      <td>ARC</td>\n",
       "      <td>Mixed Team</td>\n",
       "      <td>Republic of Korea</td>\n",
       "      <td>Archery</td>\n",
       "    </tr>\n",
       "    <tr>\n",
       "      <th>2</th>\n",
       "      <td>Silver Medal</td>\n",
       "      <td>2</td>\n",
       "      <td>Schloesser G</td>\n",
       "      <td>Schloesser Gabriela</td>\n",
       "      <td>Not mentioned</td>\n",
       "      <td>NED</td>\n",
       "      <td>ARC</td>\n",
       "      <td>Mixed Team</td>\n",
       "      <td>Netherlands</td>\n",
       "      <td>Archery</td>\n",
       "    </tr>\n",
       "    <tr>\n",
       "      <th>3</th>\n",
       "      <td>Silver Medal</td>\n",
       "      <td>2</td>\n",
       "      <td>Wijler S</td>\n",
       "      <td>Wijler Steve</td>\n",
       "      <td>Not mentioned</td>\n",
       "      <td>NED</td>\n",
       "      <td>ARC</td>\n",
       "      <td>Mixed Team</td>\n",
       "      <td>Netherlands</td>\n",
       "      <td>Archery</td>\n",
       "    </tr>\n",
       "    <tr>\n",
       "      <th>4</th>\n",
       "      <td>Bronze Medal</td>\n",
       "      <td>3</td>\n",
       "      <td>Alvarez L</td>\n",
       "      <td>Alvarez Luis</td>\n",
       "      <td>Not mentioned</td>\n",
       "      <td>MEX</td>\n",
       "      <td>ARC</td>\n",
       "      <td>Mixed Team</td>\n",
       "      <td>Mexico</td>\n",
       "      <td>Archery</td>\n",
       "    </tr>\n",
       "  </tbody>\n",
       "</table>\n",
       "</div>"
      ],
      "text/plain": [
       "     medal_type  medal_code athlete_short_name         athlete_name  \\\n",
       "0    Gold Medal           1             Kim Jd          Kim Je Deok   \n",
       "1    Gold Medal           1               An S               An San   \n",
       "2  Silver Medal           2       Schloesser G  Schloesser Gabriela   \n",
       "3  Silver Medal           2           Wijler S         Wijler Steve   \n",
       "4  Bronze Medal           3          Alvarez L         Alvarez Luis   \n",
       "\n",
       "     athlete_sex country_code discipline_code       event            country  \\\n",
       "0  Not mentioned          KOR             ARC  Mixed Team  Republic of Korea   \n",
       "1  Not mentioned          KOR             ARC  Mixed Team  Republic of Korea   \n",
       "2  Not mentioned          NED             ARC  Mixed Team        Netherlands   \n",
       "3  Not mentioned          NED             ARC  Mixed Team        Netherlands   \n",
       "4  Not mentioned          MEX             ARC  Mixed Team             Mexico   \n",
       "\n",
       "  discipline  \n",
       "0    Archery  \n",
       "1    Archery  \n",
       "2    Archery  \n",
       "3    Archery  \n",
       "4    Archery  "
      ]
     },
     "execution_count": 20,
     "metadata": {},
     "output_type": "execute_result"
    }
   ],
   "source": [
    "df_medals.head()"
   ]
  },
  {
   "cell_type": "code",
   "execution_count": 21,
   "id": "82009a9d",
   "metadata": {},
   "outputs": [],
   "source": [
    "# Clean the technical_officials dataframe\n",
    "\n",
    "df_technical_officials['name'] = df_technical_officials['name'].apply(to_camel_case)\n",
    "df_technical_officials['short_name'] = df_technical_officials['short_name'].apply(to_camel_case)\n",
    "df_technical_officials = df_technical_officials.fillna('Not mentioned')"
   ]
  },
  {
   "cell_type": "code",
   "execution_count": 22,
   "id": "29d57f2e",
   "metadata": {},
   "outputs": [
    {
     "data": {
      "text/html": [
       "<div>\n",
       "<style scoped>\n",
       "    .dataframe tbody tr th:only-of-type {\n",
       "        vertical-align: middle;\n",
       "    }\n",
       "\n",
       "    .dataframe tbody tr th {\n",
       "        vertical-align: top;\n",
       "    }\n",
       "\n",
       "    .dataframe thead th {\n",
       "        text-align: right;\n",
       "    }\n",
       "</style>\n",
       "<table border=\"1\" class=\"dataframe\">\n",
       "  <thead>\n",
       "    <tr style=\"text-align: right;\">\n",
       "      <th></th>\n",
       "      <th>name</th>\n",
       "      <th>short_name</th>\n",
       "      <th>gender</th>\n",
       "      <th>birth_date</th>\n",
       "      <th>country</th>\n",
       "      <th>discipline</th>\n",
       "      <th>function</th>\n",
       "    </tr>\n",
       "  </thead>\n",
       "  <tbody>\n",
       "    <tr>\n",
       "      <th>0</th>\n",
       "      <td>Abaeva Elena</td>\n",
       "      <td>Abaeva E</td>\n",
       "      <td>Female</td>\n",
       "      <td>21-04-1966</td>\n",
       "      <td>Uzbekistan</td>\n",
       "      <td>Wrestling</td>\n",
       "      <td>Judge</td>\n",
       "    </tr>\n",
       "    <tr>\n",
       "      <th>1</th>\n",
       "      <td>Abbar Bachir</td>\n",
       "      <td>Abbar B</td>\n",
       "      <td>Male</td>\n",
       "      <td>03-05-1965</td>\n",
       "      <td>Morocco</td>\n",
       "      <td>Boxing</td>\n",
       "      <td>Judge</td>\n",
       "    </tr>\n",
       "    <tr>\n",
       "      <th>2</th>\n",
       "      <td>Abdellatif Makfouni</td>\n",
       "      <td>Abdellatif M</td>\n",
       "      <td>Male</td>\n",
       "      <td>23-11-1972</td>\n",
       "      <td>Morocco</td>\n",
       "      <td>Boxing</td>\n",
       "      <td>Judge</td>\n",
       "    </tr>\n",
       "    <tr>\n",
       "      <th>3</th>\n",
       "      <td>Abe Miya</td>\n",
       "      <td>Abe M</td>\n",
       "      <td>Female</td>\n",
       "      <td>27-10-1992</td>\n",
       "      <td>Japan</td>\n",
       "      <td>Beach Volleyball</td>\n",
       "      <td>Referee</td>\n",
       "    </tr>\n",
       "    <tr>\n",
       "      <th>4</th>\n",
       "      <td>Aciga Fula Antonio Stephen</td>\n",
       "      <td>Aciga Fula As</td>\n",
       "      <td>Male</td>\n",
       "      <td>28-11-1957</td>\n",
       "      <td>Uganda</td>\n",
       "      <td>Boxing</td>\n",
       "      <td>Judge</td>\n",
       "    </tr>\n",
       "  </tbody>\n",
       "</table>\n",
       "</div>"
      ],
      "text/plain": [
       "                         name     short_name  gender  birth_date     country  \\\n",
       "0                Abaeva Elena       Abaeva E  Female  21-04-1966  Uzbekistan   \n",
       "1                Abbar Bachir        Abbar B    Male  03-05-1965     Morocco   \n",
       "2         Abdellatif Makfouni   Abdellatif M    Male  23-11-1972     Morocco   \n",
       "3                    Abe Miya          Abe M  Female  27-10-1992       Japan   \n",
       "4  Aciga Fula Antonio Stephen  Aciga Fula As    Male  28-11-1957      Uganda   \n",
       "\n",
       "         discipline function  \n",
       "0         Wrestling    Judge  \n",
       "1            Boxing    Judge  \n",
       "2            Boxing    Judge  \n",
       "3  Beach Volleyball  Referee  \n",
       "4            Boxing    Judge  "
      ]
     },
     "execution_count": 22,
     "metadata": {},
     "output_type": "execute_result"
    }
   ],
   "source": [
    "df_technical_officials.head()"
   ]
  },
  {
   "cell_type": "code",
   "execution_count": 23,
   "id": "ccc19381",
   "metadata": {},
   "outputs": [],
   "source": [
    "bucket_after_etl = 'data-after-etl'"
   ]
  },
  {
   "cell_type": "code",
   "execution_count": 25,
   "id": "2b153895",
   "metadata": {},
   "outputs": [
    {
     "data": {
      "text/plain": [
       "{'ResponseMetadata': {'RequestId': 'TZFZBVTTSQSJ2YAR',\n",
       "  'HostId': '5Uj0W1UUbr2T1JDNVvSqI18I9gmSPrJ/rEFUspMpZd7gLD/TGudy2JsIYDwVbO9VHf8371iV9Ps=',\n",
       "  'HTTPStatusCode': 200,\n",
       "  'HTTPHeaders': {'x-amz-id-2': '5Uj0W1UUbr2T1JDNVvSqI18I9gmSPrJ/rEFUspMpZd7gLD/TGudy2JsIYDwVbO9VHf8371iV9Ps=',\n",
       "   'x-amz-request-id': 'TZFZBVTTSQSJ2YAR',\n",
       "   'date': 'Sun, 10 Mar 2024 14:34:29 GMT',\n",
       "   'x-amz-server-side-encryption': 'AES256',\n",
       "   'etag': '\"8fe752391f260c9823569b649fd53965\"',\n",
       "   'server': 'AmazonS3',\n",
       "   'content-length': '0'},\n",
       "  'RetryAttempts': 0},\n",
       " 'ETag': '\"8fe752391f260c9823569b649fd53965\"',\n",
       " 'ServerSideEncryption': 'AES256'}"
      ]
     },
     "execution_count": 25,
     "metadata": {},
     "output_type": "execute_result"
    }
   ],
   "source": [
    "# Load the cleaned athletes dataframe back to S3\n",
    "\n",
    "csv_convert = StringIO()\n",
    "df_athletes.to_csv(csv_convert)\n",
    "s3.Object(bucket_after_etl, 'Output/cleaned_athletes.csv').put(Body=csv_convert.getvalue())"
   ]
  },
  {
   "cell_type": "code",
   "execution_count": 27,
   "id": "6e1293d6",
   "metadata": {},
   "outputs": [
    {
     "data": {
      "text/plain": [
       "{'ResponseMetadata': {'RequestId': 'GHVCP9BRAES1JYX9',\n",
       "  'HostId': 'Teqx+RPN2ibzSMhFzYex2a4n7rNnoQaZXIW66Aiendxq9OVJgU7mF+uxzh/DAjNJ5fQZ+6L/OsI=',\n",
       "  'HTTPStatusCode': 200,\n",
       "  'HTTPHeaders': {'x-amz-id-2': 'Teqx+RPN2ibzSMhFzYex2a4n7rNnoQaZXIW66Aiendxq9OVJgU7mF+uxzh/DAjNJ5fQZ+6L/OsI=',\n",
       "   'x-amz-request-id': 'GHVCP9BRAES1JYX9',\n",
       "   'date': 'Sun, 10 Mar 2024 14:42:17 GMT',\n",
       "   'x-amz-server-side-encryption': 'AES256',\n",
       "   'etag': '\"2fa5faee0ee63cdc4b429acc4faef203\"',\n",
       "   'server': 'AmazonS3',\n",
       "   'content-length': '0'},\n",
       "  'RetryAttempts': 0},\n",
       " 'ETag': '\"2fa5faee0ee63cdc4b429acc4faef203\"',\n",
       " 'ServerSideEncryption': 'AES256'}"
      ]
     },
     "execution_count": 27,
     "metadata": {},
     "output_type": "execute_result"
    }
   ],
   "source": [
    "# Load the cleaned coaches dataframe back to S3\n",
    "\n",
    "csv_convert_1 = StringIO()\n",
    "df_coaches.to_csv(csv_convert_1)\n",
    "s3.Object(bucket_after_etl, 'Output/cleaned_coaches.csv').put(Body=csv_convert_1.getvalue())"
   ]
  },
  {
   "cell_type": "code",
   "execution_count": 28,
   "id": "b28007d3",
   "metadata": {},
   "outputs": [
    {
     "data": {
      "text/plain": [
       "{'ResponseMetadata': {'RequestId': 'MJHAETPPWKYM3CWK',\n",
       "  'HostId': '3QL2mn1IVp+YdBMMrLmhHJtnjpeL21h+K18hstIJXM1ZTuW7lZi/XiDAeNOqBCzpwjrDgkQbyTFNOoRzViZNfg==',\n",
       "  'HTTPStatusCode': 200,\n",
       "  'HTTPHeaders': {'x-amz-id-2': '3QL2mn1IVp+YdBMMrLmhHJtnjpeL21h+K18hstIJXM1ZTuW7lZi/XiDAeNOqBCzpwjrDgkQbyTFNOoRzViZNfg==',\n",
       "   'x-amz-request-id': 'MJHAETPPWKYM3CWK',\n",
       "   'date': 'Sun, 10 Mar 2024 14:45:44 GMT',\n",
       "   'x-amz-server-side-encryption': 'AES256',\n",
       "   'etag': '\"fd3348cfa82f4714795acdca3dcac4f2\"',\n",
       "   'server': 'AmazonS3',\n",
       "   'content-length': '0'},\n",
       "  'RetryAttempts': 0},\n",
       " 'ETag': '\"fd3348cfa82f4714795acdca3dcac4f2\"',\n",
       " 'ServerSideEncryption': 'AES256'}"
      ]
     },
     "execution_count": 28,
     "metadata": {},
     "output_type": "execute_result"
    }
   ],
   "source": [
    "# Load the cleaned medals_totals dataframe back to S3\n",
    "\n",
    "csv_convert_2 = StringIO()\n",
    "df_medals_total.to_csv(csv_convert_2)\n",
    "s3.Object(bucket_after_etl, 'Output/cleaned_medals_total.csv').put(Body=csv_convert_2.getvalue())"
   ]
  },
  {
   "cell_type": "code",
   "execution_count": 29,
   "id": "63d2ff63",
   "metadata": {},
   "outputs": [
    {
     "data": {
      "text/plain": [
       "{'ResponseMetadata': {'RequestId': '8GEPRB698C1FQGYM',\n",
       "  'HostId': 'nhS/gLaJSsC5A2clip1Ait8701vfOJ4EtlOesIWZE36f/R9o2QURCRmn9gvsvk7GSwobB5aS/sF+PrBlehN6qQ==',\n",
       "  'HTTPStatusCode': 200,\n",
       "  'HTTPHeaders': {'x-amz-id-2': 'nhS/gLaJSsC5A2clip1Ait8701vfOJ4EtlOesIWZE36f/R9o2QURCRmn9gvsvk7GSwobB5aS/sF+PrBlehN6qQ==',\n",
       "   'x-amz-request-id': '8GEPRB698C1FQGYM',\n",
       "   'date': 'Sun, 10 Mar 2024 14:47:50 GMT',\n",
       "   'x-amz-server-side-encryption': 'AES256',\n",
       "   'etag': '\"6c027a38143b69f5e5c6a2772b453ac2\"',\n",
       "   'server': 'AmazonS3',\n",
       "   'content-length': '0'},\n",
       "  'RetryAttempts': 0},\n",
       " 'ETag': '\"6c027a38143b69f5e5c6a2772b453ac2\"',\n",
       " 'ServerSideEncryption': 'AES256'}"
      ]
     },
     "execution_count": 29,
     "metadata": {},
     "output_type": "execute_result"
    }
   ],
   "source": [
    "# Load the cleaned medals dataframe back to S3\n",
    "\n",
    "csv_convert_3 = StringIO()\n",
    "df_medals.to_csv(csv_convert_3)\n",
    "s3.Object(bucket_after_etl, 'Output/cleaned_medals.csv').put(Body=csv_convert_3.getvalue())"
   ]
  },
  {
   "cell_type": "code",
   "execution_count": 30,
   "id": "676c5fa7",
   "metadata": {},
   "outputs": [
    {
     "data": {
      "text/plain": [
       "{'ResponseMetadata': {'RequestId': '4RPPWGB37ADN62GB',\n",
       "  'HostId': 'ErlW+3jJhQEh4T/o593hJcSGcGfXUe8KKylrpNg/mYJZlYkobWGsEspc0b6REVRvSyKslVpfi2raiyJht76ZbQ==',\n",
       "  'HTTPStatusCode': 200,\n",
       "  'HTTPHeaders': {'x-amz-id-2': 'ErlW+3jJhQEh4T/o593hJcSGcGfXUe8KKylrpNg/mYJZlYkobWGsEspc0b6REVRvSyKslVpfi2raiyJht76ZbQ==',\n",
       "   'x-amz-request-id': '4RPPWGB37ADN62GB',\n",
       "   'date': 'Sun, 10 Mar 2024 14:53:05 GMT',\n",
       "   'x-amz-server-side-encryption': 'AES256',\n",
       "   'etag': '\"3b5e3f387293e4f1055c89e43ac98150\"',\n",
       "   'server': 'AmazonS3',\n",
       "   'content-length': '0'},\n",
       "  'RetryAttempts': 0},\n",
       " 'ETag': '\"3b5e3f387293e4f1055c89e43ac98150\"',\n",
       " 'ServerSideEncryption': 'AES256'}"
      ]
     },
     "execution_count": 30,
     "metadata": {},
     "output_type": "execute_result"
    }
   ],
   "source": [
    "# Load the cleaned technical_officials dataframe back to S3\n",
    "\n",
    "csv_convert_4 = StringIO()\n",
    "df_technical_officials.to_csv(csv_convert_4)\n",
    "s3.Object(bucket_after_etl, 'Output/cleaned_technical_officials.csv').put(Body=csv_convert_4.getvalue())"
   ]
  },
  {
   "cell_type": "code",
   "execution_count": 31,
   "id": "290fd287",
   "metadata": {},
   "outputs": [
    {
     "name": "stdout",
     "output_type": "stream",
     "text": [
      "CREATE TABLE \"df_athletes\" (\n",
      "\"index\" INTEGER,\n",
      "  \"name\" TEXT,\n",
      "  \"short_name\" TEXT,\n",
      "  \"gender\" TEXT,\n",
      "  \"birth_date\" TEXT,\n",
      "  \"birth_place\" TEXT,\n",
      "  \"birth_country\" TEXT,\n",
      "  \"country\" TEXT,\n",
      "  \"country_code\" TEXT,\n",
      "  \"discipline\" TEXT,\n",
      "  \"discipline_code\" TEXT,\n",
      "  \"residence_place\" TEXT,\n",
      "  \"residence_country\" TEXT,\n",
      "  \"height_m_ft\" TEXT\n",
      ")\n"
     ]
    }
   ],
   "source": [
    "# Retrieve the structure of the dataframe for creation on Redshift\n",
    "\n",
    "df_athletes_structure = pd.io.sql.get_schema(df_athletes.reset_index(),'df_athletes')\n",
    "print(''.join(df_athletes_structure))"
   ]
  },
  {
   "cell_type": "code",
   "execution_count": 32,
   "id": "a60d8572",
   "metadata": {},
   "outputs": [
    {
     "name": "stdout",
     "output_type": "stream",
     "text": [
      "CREATE TABLE \"df_coaches\" (\n",
      "\"index\" INTEGER,\n",
      "  \"name\" TEXT,\n",
      "  \"short_name\" TEXT,\n",
      "  \"gender\" TEXT,\n",
      "  \"birth_date\" TEXT,\n",
      "  \"country_code\" TEXT,\n",
      "  \"discipline\" TEXT,\n",
      "  \"function\" TEXT,\n",
      "  \"event\" TEXT\n",
      ")\n"
     ]
    }
   ],
   "source": [
    "# Retrieve the structure of the dataframe for creation on Redshift\n",
    "\n",
    "df_coaches_structure = pd.io.sql.get_schema(df_coaches.reset_index(),'df_coaches')\n",
    "print(''.join(df_coaches_structure))"
   ]
  },
  {
   "cell_type": "code",
   "execution_count": 33,
   "id": "480f01aa",
   "metadata": {},
   "outputs": [
    {
     "name": "stdout",
     "output_type": "stream",
     "text": [
      "CREATE TABLE \"df_medals_total\" (\n",
      "\"index\" INTEGER,\n",
      "  \"rank\" INTEGER,\n",
      "  \"country_code\" TEXT,\n",
      "  \"gold_medal\" INTEGER,\n",
      "  \"silver_medal\" INTEGER,\n",
      "  \"bronze_medal\" INTEGER,\n",
      "  \"total\" INTEGER,\n",
      "  \"country\" TEXT\n",
      ")\n"
     ]
    }
   ],
   "source": [
    "# Retrieve the structure of the dataframe for creation on Redshift\n",
    "\n",
    "df_medals_total_structure = pd.io.sql.get_schema(df_medals_total.reset_index(),'df_medals_total')\n",
    "print(''.join(df_medals_total_structure))"
   ]
  },
  {
   "cell_type": "code",
   "execution_count": 34,
   "id": "39cd3885",
   "metadata": {},
   "outputs": [
    {
     "name": "stdout",
     "output_type": "stream",
     "text": [
      "CREATE TABLE \"df_medals\" (\n",
      "\"index\" INTEGER,\n",
      "  \"medal_type\" TEXT,\n",
      "  \"medal_code\" INTEGER,\n",
      "  \"athlete_short_name\" TEXT,\n",
      "  \"athlete_name\" TEXT,\n",
      "  \"athlete_sex\" TEXT,\n",
      "  \"country_code\" TEXT,\n",
      "  \"discipline_code\" TEXT,\n",
      "  \"event\" TEXT,\n",
      "  \"country\" TEXT,\n",
      "  \"discipline\" TEXT\n",
      ")\n"
     ]
    }
   ],
   "source": [
    "# Retrieve the structure of the dataframe for creation on Redshift\n",
    "\n",
    "df_medals_structure = pd.io.sql.get_schema(df_medals.reset_index(),'df_medals')\n",
    "print(''.join(df_medals_structure))"
   ]
  },
  {
   "cell_type": "code",
   "execution_count": 35,
   "id": "9b0ffb4e",
   "metadata": {},
   "outputs": [
    {
     "name": "stdout",
     "output_type": "stream",
     "text": [
      "CREATE TABLE \"df_technical_officials\" (\n",
      "\"index\" INTEGER,\n",
      "  \"name\" TEXT,\n",
      "  \"short_name\" TEXT,\n",
      "  \"gender\" TEXT,\n",
      "  \"birth_date\" TEXT,\n",
      "  \"country\" TEXT,\n",
      "  \"discipline\" TEXT,\n",
      "  \"function\" TEXT\n",
      ")\n"
     ]
    }
   ],
   "source": [
    "# Retrieve the structure of the dataframe for creation on Redshift\n",
    "\n",
    "df_technical_officials_structure = pd.io.sql.get_schema(df_technical_officials.reset_index(),'df_technical_officials')\n",
    "print(''.join(df_technical_officials_structure))"
   ]
  }
 ],
 "metadata": {
  "kernelspec": {
   "display_name": "Python 3 (ipykernel)",
   "language": "python",
   "name": "python3"
  },
  "language_info": {
   "codemirror_mode": {
    "name": "ipython",
    "version": 3
   },
   "file_extension": ".py",
   "mimetype": "text/x-python",
   "name": "python",
   "nbconvert_exporter": "python",
   "pygments_lexer": "ipython3",
   "version": "3.9.12"
  }
 },
 "nbformat": 4,
 "nbformat_minor": 5
}
